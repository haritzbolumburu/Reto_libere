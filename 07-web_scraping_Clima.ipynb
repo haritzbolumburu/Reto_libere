{
 "cells": [
  {
   "cell_type": "code",
   "execution_count": 1,
   "metadata": {},
   "outputs": [],
   "source": [
    "import pandas as pd\n",
    "import seaborn as sns\n",
    "import datetime as dt\n",
    "from datetime import timedelta\n",
    "import requests\n",
    "from bs4 import BeautifulSoup\n",
    "import packages.WebScrapping as WBS"
   ]
  },
  {
   "cell_type": "markdown",
   "metadata": {},
   "source": [
    "### Creamos la funcion que convierte la tabla del calendario en un dataframe (con maximas y minimas y la situación)"
   ]
  },
  {
   "cell_type": "markdown",
   "metadata": {},
   "source": [
    "#### Creación de todas las urls de las que nos interesa información"
   ]
  },
  {
   "cell_type": "code",
   "execution_count": 2,
   "metadata": {},
   "outputs": [],
   "source": [
    "meses = ['February', 'March', 'April', 'May', 'June']\n",
    "id_ciudades = ['pais-vasco/bilbao', 'pais-vasco/vitoria-gasteiz', 'madrid', 'comunidad-valenciana/valencia', 'andalucia/malaga']\n",
    "urls = []\n",
    "for mes in meses:\n",
    "    for ciudad in id_ciudades:\n",
    "        urls.append('https://www.tiempo3.com/europe/spain/'+ciudad+'?page=month&month='+mes)"
   ]
  },
  {
   "cell_type": "code",
   "execution_count": 3,
   "metadata": {},
   "outputs": [],
   "source": [
    "tablas = []\n",
    "for url in urls:\n",
    "    df_prueba = WBS.crear_tabla(url)\n",
    "    tablas.append(df_prueba)"
   ]
  },
  {
   "cell_type": "code",
   "execution_count": 4,
   "metadata": {},
   "outputs": [
    {
     "name": "stderr",
     "output_type": "stream",
     "text": [
      "/tmp/ipykernel_15994/1896057292.py:3: FutureWarning: The frame.append method is deprecated and will be removed from pandas in a future version. Use pandas.concat instead.\n",
      "  df_clima = df_clima.append(tablas[enum], ignore_index=True)\n"
     ]
    }
   ],
   "source": [
    "df_clima = pd.DataFrame()\n",
    "for enum, df in enumerate(tablas):\n",
    "    df_clima = df_clima.append(tablas[enum], ignore_index=True)"
   ]
  },
  {
   "cell_type": "code",
   "execution_count": 5,
   "metadata": {},
   "outputs": [],
   "source": [
    "columnas = ['temp_max', 'temp_min']\n",
    "df_clima[columnas] = df_clima[columnas].replace({'°':''}, regex=True)"
   ]
  },
  {
   "cell_type": "code",
   "execution_count": 6,
   "metadata": {},
   "outputs": [],
   "source": [
    "df_clima.to_csv('./Datos/Transformados/df_clima.csv', index=False)"
   ]
  }
 ],
 "metadata": {
  "kernelspec": {
   "display_name": "Python 3.9.15 ('morado_reto06')",
   "language": "python",
   "name": "python3"
  },
  "language_info": {
   "codemirror_mode": {
    "name": "ipython",
    "version": 3
   },
   "file_extension": ".py",
   "mimetype": "text/x-python",
   "name": "python",
   "nbconvert_exporter": "python",
   "pygments_lexer": "ipython3",
   "version": "3.9.15"
  },
  "orig_nbformat": 4,
  "vscode": {
   "interpreter": {
    "hash": "56b90e1349c1e59d0c37fc66b3756487e329f7cba41b3ebe174d213c1bfaff78"
   }
  }
 },
 "nbformat": 4,
 "nbformat_minor": 2
}
