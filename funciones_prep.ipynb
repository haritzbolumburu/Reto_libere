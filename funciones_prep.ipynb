{
 "cells": [
  {
   "cell_type": "code",
   "execution_count": 12,
   "metadata": {},
   "outputs": [],
   "source": [
    "import pandas as pd\n",
    "import missingno as msno\n",
    "import seaborn as sns\n",
    "import os\n",
    "import datetime as dt\n",
    "from datetime import timedelta\n",
    "import matplotlib.pyplot as plt\n",
    "import emoji\n",
    "import time\n",
    "from time import sleep"
   ]
  },
  {
   "cell_type": "code",
   "execution_count": 13,
   "metadata": {},
   "outputs": [],
   "source": [
    "CARPETA=('./Datos/Originales/')\n",
    "FICHERO='booking_data_for_cancellation_proyecto.csv'"
   ]
  },
  {
   "cell_type": "code",
   "execution_count": 14,
   "metadata": {},
   "outputs": [],
   "source": [
    "datos=pd.read_csv(os.path.join(CARPETA,FICHERO),sep=',')"
   ]
  },
  {
   "cell_type": "code",
   "execution_count": 26,
   "metadata": {},
   "outputs": [
    {
     "name": "stdout",
     "output_type": "stream",
     "text": [
      "5- Missings y outliers\n",
      "Se han transformado los valores ausentes de la variable cancelled_at por No determinado \n",
      "Se han transformado los valores ausentes de la variable travel_agency_name por No determinado \n",
      "Se han transformado los valores ausentes de la variable nationality por No determinado \n",
      "Se han transformado los valores ausentes de la variable age por No determinado \n"
     ]
    }
   ],
   "source": [
    "print('5- Missings y outliers')\n",
    "def quita_na_1(x):\n",
    "    remplazar='No determinado'\n",
    "    datos[x]=datos[x].fillna(remplazar)\n",
    "    return print(f'Se han transformado los valores ausentes de la variable {x} por {remplazar} ')\n",
    "quita_na_1('cancelled_at')\n",
    "quita_na_1('travel_agency_name')\n",
    "quita_na_1('nationality')\n",
    "def quita_na_2(x):\n",
    "    datos[x]= datos.groupby([datos['child_count'],datos['adult_count'],datos['nationality']])['age'].transform(lambda x: x.fillna(x.mean()).round())\n",
    "    return print(f' Se han cambiado los missing values de la variable {x} dependiendo de la nacionalidad y la cantidad de hijos con los que habia reservado')\n",
    "quita_na_1('age')"
   ]
  },
  {
   "cell_type": "code",
   "execution_count": 25,
   "metadata": {},
   "outputs": [
    {
     "ename": "TypeError",
     "evalue": "cannot unpack non-iterable int object",
     "output_type": "error",
     "traceback": [
      "\u001b[0;31m---------------------------------------------------------------------------\u001b[0m",
      "\u001b[0;31mTypeError\u001b[0m                                 Traceback (most recent call last)",
      "Cell \u001b[0;32mIn [25], line 1\u001b[0m\n\u001b[0;32m----> 1\u001b[0m \u001b[39mfor\u001b[39;00m i,z \u001b[39min\u001b[39;00m datos\u001b[39m.\u001b[39misna()\u001b[39m.\u001b[39msum():\n\u001b[1;32m      2\u001b[0m     \u001b[39mprint\u001b[39m(i)\n",
      "\u001b[0;31mTypeError\u001b[0m: cannot unpack non-iterable int object"
     ]
    }
   ],
   "source": [
    "def creacion_variables(df):\n",
    "    print('Diferencia entre la fecha de check in y la de cancelacion')\n",
    "    df['cancelled_imp']=df['cancelled_at']\n",
    "    df.loc[df['cancelled_at']=='No determinado', 'cancelled_imp'] = '2000-01-01T00:00:00Z'\n",
    "    df[df['cancelled_at']!='No determinado']['cancelled_imp']\n",
    "    df['cancelled_imp'] = pd.to_datetime(df['cancelled_imp'] )\n",
    "    df['dif_can_in'] = df['checkin_time'] - df['cancelled_imp'] \n",
    "    df.loc[df['cancelled_at']=='No determinado', 'dif_can_in'] = 0\n",
    "    df[df['cancelled_at']!='No determinado']['dif_can_in']\n",
    "\n",
    "    print('Diferencia entre la fecha de cancelacion y la de reserva')\n",
    "    df['dif_can_res'] = df['cancelled_imp'] - df['booking_time']\n",
    "    df.loc[df['cancelled_at']=='No determinado', 'dif_can_res'] = 0\n",
    "    df[df['cancelled_at']!='No determinado']['dif_can_res']\n",
    "\n",
    "    print('Diferencia entre la fecha de reserva y la de entrada')\n",
    "    df['dif_resserva_entrada'] = df['checkin_time'] - df['booking_time']\n",
    "    print('Analizar la diferenica minima por si puede haber un error')\n",
    "    df['dif_resserva_entrada'].min() \n",
    "\n",
    "    print('Duracion de la reserva:Diferencia entre check in y check out')\n",
    "    df['duracion_reserva'] = df['checkout_time'] - df['checkin_time']\n",
    "      \n",
    "\n",
    "    bins = [16, 18, 25, 35, 50, 65, 80, 90]\n",
    "    names = [\"16-18\", \"18-24\", \"25-35\", \"35-50\", \"50-65\", \"65-80\", \"+80\"]\n",
    "    df['rangos_age'] = pd.cut(df['age'], bins, labels = names)\n",
    "    df['rangos_age'].value_counts()\n",
    "    print(f'Rangos de edad {names}')\n",
    "\n",
    "\n",
    "    print('Total de Personas')\n",
    "    df['total_personas'] = df['adult_count'] + df['child_count']\n",
    "    print('Observamos un analiss estadistico para conocer y ver si puede haber algun error')\n",
    "    df['total_personas'].describe()\n",
    "\n",
    "    print('Rango de numero de adultos')\n",
    "    bins = [0, 1, 2, 8]\n",
    "    names = [\"persona sola\", \"pareja\", \"grupo de adultos\"]\n",
    "    df['rangos_adultos'] = pd.cut(df['adult_count'], bins, labels = names)\n",
    "    df['rangos_adultos'].value_counts()\n",
    "\n",
    "    bins = [-1,0, 1, 2, 5]\n",
    "    names = [\"sin niños\", \"niño unico\", \"dos niños\", \"familia numerosa\"]\n",
    "    df['rangos_niños'] = pd.cut(df['child_count'], bins, labels = names)\n",
    "    df['rangos_niños'].value_counts()\n",
    "\n",
    "\n",
    "\n",
    "\n",
    "\n"
   ]
  }
 ],
 "metadata": {
  "kernelspec": {
   "display_name": "Python 3.9.15 ('RETO_06_PBD')",
   "language": "python",
   "name": "python3"
  },
  "language_info": {
   "codemirror_mode": {
    "name": "ipython",
    "version": 3
   },
   "file_extension": ".py",
   "mimetype": "text/x-python",
   "name": "python",
   "nbconvert_exporter": "python",
   "pygments_lexer": "ipython3",
   "version": "3.9.15"
  },
  "orig_nbformat": 4,
  "vscode": {
   "interpreter": {
    "hash": "310e1364ffcd52884af816e00537ccbcf7f1d303a34a19d1c2a4b5900f3f897e"
   }
  }
 },
 "nbformat": 4,
 "nbformat_minor": 2
}
