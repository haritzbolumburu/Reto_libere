{
 "cells": [
  {
   "cell_type": "code",
   "execution_count": null,
   "metadata": {},
   "outputs": [],
   "source": [
    "from elasticsearch import Elasticsearch\n",
    "from datetime import datetime as dt\n",
    "import pandas as pd\n",
    "import numpy as np\n",
    "from csv import DictReader\n",
    "import os"
   ]
  },
  {
   "cell_type": "code",
   "execution_count": null,
   "metadata": {},
   "outputs": [],
   "source": [
    "ELASTIC_PASSWORD ='2YVO0+eOKT26mMmpynP3' #haritz\n",
    "\n",
    "client=Elasticsearch(\n",
    "    \"https://localhost:9200\",\n",
    "    ca_certs=\"/home/bdata2/elasticsearch-8.4.3/config/certs/http_ca.crt\",\n",
    "    basic_auth=(\"elastic\", ELASTIC_PASSWORD)\n",
    ")\n",
    "\n",
    "client.info()"
   ]
  },
  {
   "cell_type": "markdown",
   "metadata": {},
   "source": [
    "### Resultados del modelado Clustering General de Clientes"
   ]
  },
  {
   "cell_type": "code",
   "execution_count": null,
   "metadata": {},
   "outputs": [],
   "source": [
    "with open('./Datos/Transformados/resultados_clusteringG.csv', 'r') as fichero:\n",
    "    csv_dict = DictReader(fichero)\n",
    "    indice = 0\n",
    "    for row in csv_dict:\n",
    "        row['Silhouette Coefficient'] = float(row['Silhouette Coefficient'])\n",
    "        row['Numero de grupos'] = int(row['Numero de grupos'])\n",
    "        resp = client.index(index = 'reto06_morado_clustering_general', id = indice, document=row)\n",
    "        indice = indice + 1"
   ]
  },
  {
   "cell_type": "code",
   "execution_count": null,
   "metadata": {},
   "outputs": [],
   "source": [
    "resp = client.search(index=\"reto06_morado_clustering_general\", query={\"match_all\": {}})\n",
    "resp['hits']['total']['value']"
   ]
  },
  {
   "cell_type": "markdown",
   "metadata": {},
   "source": [
    "### Resultados del modelado Clustering del Grupo 3"
   ]
  },
  {
   "cell_type": "code",
   "execution_count": null,
   "metadata": {},
   "outputs": [],
   "source": [
    "with open('./Datos/Transformados/resultados_clustering_C3.csv', 'r') as fichero:\n",
    "    csv_dict = DictReader(fichero)\n",
    "    indice = 0\n",
    "    for row in csv_dict:\n",
    "        row['Silhouette Coefficient'] = float(row['Silhouette Coefficient'])\n",
    "        row['Numero de grupos'] = int(row['Numero de grupos'])\n",
    "        resp = client.index(index = 'reto06_morado_clustering_cluster3', id = indice, document=row)\n",
    "        indice = indice + 1"
   ]
  },
  {
   "cell_type": "code",
   "execution_count": null,
   "metadata": {},
   "outputs": [],
   "source": [
    "resp = client.search(index=\"reto06_morado_clustering_cluster3\", query={\"match_all\": {}})\n",
    "resp['hits']['total']['value']"
   ]
  }
 ],
 "metadata": {
  "kernelspec": {
   "display_name": "Python 3.8.10 64-bit",
   "language": "python",
   "name": "python3"
  },
  "language_info": {
   "name": "python",
   "version": "3.8.10"
  },
  "orig_nbformat": 4,
  "vscode": {
   "interpreter": {
    "hash": "916dbcbb3f70747c44a77c7bcd40155683ae19c65e1c03b4aa3499c5328201f1"
   }
  }
 },
 "nbformat": 4,
 "nbformat_minor": 2
}
