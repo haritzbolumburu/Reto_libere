{
 "cells": [
  {
   "cell_type": "code",
   "execution_count": 1,
   "metadata": {},
   "outputs": [],
   "source": [
    "from elasticsearch import Elasticsearch\n",
    "from datetime import datetime as dt\n",
    "import pandas as pd\n",
    "import numpy as np\n",
    "from csv import DictReader"
   ]
  },
  {
   "cell_type": "markdown",
   "metadata": {},
   "source": [
    "### Creamos la conexion con elastic"
   ]
  },
  {
   "cell_type": "code",
   "execution_count": 2,
   "metadata": {},
   "outputs": [
    {
     "data": {
      "text/plain": [
       "ObjectApiResponse({'name': 'bdata2-VirtualBox', 'cluster_name': 'elasticsearch', 'cluster_uuid': '6XmqEv5uSK-hr779sbmGdg', 'version': {'number': '8.4.3', 'build_flavor': 'default', 'build_type': 'tar', 'build_hash': '42f05b9372a9a4a470db3b52817899b99a76ee73', 'build_date': '2022-10-04T07:17:24.662462378Z', 'build_snapshot': False, 'lucene_version': '9.3.0', 'minimum_wire_compatibility_version': '7.17.0', 'minimum_index_compatibility_version': '7.0.0'}, 'tagline': 'You Know, for Search'})"
      ]
     },
     "execution_count": 2,
     "metadata": {},
     "output_type": "execute_result"
    }
   ],
   "source": [
    "ELASTIC_PASSWORD = \"k3cwTESnoemDc1YCxO-s\" #ane\n",
    "\n",
    "\n",
    "client = Elasticsearch(\n",
    "    \"https://localhost:9200\",\n",
    "    ca_certs=\"/home/bdata2/elasticsearch-8.4.3/config/certs/http_ca.crt\",\n",
    "    basic_auth=(\"elastic\", ELASTIC_PASSWORD)\n",
    ")\n",
    "\n",
    "client.info()"
   ]
  },
  {
   "cell_type": "markdown",
   "metadata": {},
   "source": [
    "### Comenzamos con la subida de los datos transformados"
   ]
  },
  {
   "cell_type": "code",
   "execution_count": 3,
   "metadata": {},
   "outputs": [],
   "source": [
    "with open('./Datos/Transformados/df_transformado.csv', 'r') as fichero:\n",
    "    csv_dict = DictReader(fichero)\n",
    "    indice = 0\n",
    "    for row in csv_dict:\n",
    "        row['booking_time'] = pd.to_datetime(row['booking_time'])\n",
    "        row['checkin_time'] = pd.to_datetime(row['checkin_time'])\n",
    "        row['checkout_time'] = pd.to_datetime(row['checkout_time'])\n",
    "        row['cancelled_imp'] = pd.to_datetime(row['cancelled_imp'])\n",
    "        row['adult_count'] = int(row['adult_count'])\n",
    "        row['child_count'] = int(row['child_count'])\n",
    "        row['total_personas'] = int(row['total_personas'])\n",
    "        row['age'] = int(float(row['age']))\n",
    "        row['recurrence'] = int(row['recurrence'])\n",
    "        row['product_count'] = int(row['product_count'])\n",
    "        row['reservation_net_value'] = float(row['reservation_net_value'])\n",
    "        row['reservation_nights_net_value'] = float(row['reservation_nights_net_value'])\n",
    "        row['extras_net_value'] = float(row['extras_net_value'])\n",
    "        row['dif_can_in'] = int(row['dif_can_in'])\n",
    "        row['dif_can_res'] = int(row['dif_can_res'])\n",
    "        row['dif_ent_res'] = int(row['dif_ent_res'])\n",
    "        row['duracion_reserva'] = int(row['duracion_reserva'])\n",
    "        if row['cancellation'] == 'True':\n",
    "            row['cancellation'] = 'Verdadero'\n",
    "            row['cancellation'] = bool(row['cancellation'])\n",
    "            row['cancelled_at'] = pd.to_datetime(row['cancelled_at'], errors='coerce', format = '%Y-%m-%dT%H:%M:%S')\n",
    "            resp = client.index(index = 'reto06_morado_datos_limpios_01', id = indice, document=row)\n",
    "            indice = indice + 1\n",
    "        elif row['cancellation'] == 'False':\n",
    "            row['cancellation'] = bool(row['cancellation'])\n",
    "            row['cancelled_at'] = dt.now()\n",
    "            resp = client.index(index = 'reto06_morado_datos_limpios_01', id = indice, document=row)\n",
    "            indice = indice + 1"
   ]
  },
  {
   "cell_type": "code",
   "execution_count": 4,
   "metadata": {},
   "outputs": [
    {
     "name": "stdout",
     "output_type": "stream",
     "text": [
      "Se han indexado 10000\n"
     ]
    }
   ],
   "source": [
    "resp = client.search(index=\"reto06_morado_datos_limpios_01\", query={\"match_all\": {}})\n",
    "indice1 = resp['hits']['total']['value']\n",
    "print(f'Se han indexado {indice1}')"
   ]
  },
  {
   "cell_type": "code",
   "execution_count": 5,
   "metadata": {},
   "outputs": [],
   "source": [
    "with open('./Datos/Transformados/df_transformado.csv', 'r') as fichero:\n",
    "    csv_dict = DictReader(fichero)\n",
    "    indice = indice1\n",
    "    acum = 0\n",
    "    for row in csv_dict:\n",
    "        acum = acum + 1\n",
    "        if acum>indice1:\n",
    "            row['booking_time'] = pd.to_datetime(row['booking_time'])\n",
    "            row['checkin_time'] = pd.to_datetime(row['checkin_time'])\n",
    "            row['checkout_time'] = pd.to_datetime(row['checkout_time'])\n",
    "            row['cancelled_imp'] = pd.to_datetime(row['cancelled_imp'])\n",
    "            row['adult_count'] = int(row['adult_count'])\n",
    "            row['child_count'] = int(row['child_count'])\n",
    "            row['total_personas'] = int(row['total_personas'])\n",
    "            row['age'] = int(float(row['age']))\n",
    "            row['recurrence'] = int(row['recurrence'])\n",
    "            row['product_count'] = int(row['product_count'])\n",
    "            row['reservation_net_value'] = float(row['reservation_net_value'])\n",
    "            row['reservation_nights_net_value'] = float(row['reservation_nights_net_value'])\n",
    "            row['extras_net_value'] = float(row['extras_net_value'])\n",
    "            row['dif_can_in'] = int(row['dif_can_in'])\n",
    "            row['dif_can_res'] = int(row['dif_can_res'])\n",
    "            row['dif_ent_res'] = int(row['dif_ent_res'])\n",
    "            row['duracion_reserva'] = int(row['duracion_reserva'])\n",
    "            if row['cancellation'] == 'True':\n",
    "                row['cancellation'] = 'Verdadero'\n",
    "                row['cancellation'] = bool(row['cancellation'])\n",
    "                row['cancelled_at'] = pd.to_datetime(row['cancelled_at'], errors='coerce', format = '%Y-%m-%dT%H:%M:%S')\n",
    "                resp = client.index(index = 'reto06_morado_datos_limpios_2', id = indice, document=row)\n",
    "                indice = indice + 1\n",
    "            elif row['cancellation'] == 'False':\n",
    "                row['cancellation'] = bool(row['cancellation'])\n",
    "                row['cancelled_at'] = dt.now()\n",
    "                resp = client.index(index = 'reto06_morado_datos_limpios_2', id = indice, document=row)\n",
    "                indice = indice + 1\n",
    "        else:\n",
    "            continue"
   ]
  },
  {
   "cell_type": "code",
   "execution_count": 6,
   "metadata": {},
   "outputs": [
    {
     "name": "stdout",
     "output_type": "stream",
     "text": [
      "Se han indexado 582\n"
     ]
    }
   ],
   "source": [
    "resp = client.search(index=\"reto06_morado_datos_limpios_2\", query={\"match_all\": {}})\n",
    "indice2 = resp['hits']['total']['value']\n",
    "print(f'Se han indexado {indice2}')"
   ]
  },
  {
   "cell_type": "code",
   "execution_count": 7,
   "metadata": {},
   "outputs": [
    {
     "name": "stdout",
     "output_type": "stream",
     "text": [
      "Se han indexado en total en los dos indices 10582\n"
     ]
    }
   ],
   "source": [
    "print(f'Se han indexado en total en los dos indices {indice1 + indice2}')"
   ]
  }
 ],
 "metadata": {
  "kernelspec": {
   "display_name": "Python 3.9.15 ('Reto06_Morado')",
   "language": "python",
   "name": "python3"
  },
  "language_info": {
   "codemirror_mode": {
    "name": "ipython",
    "version": 3
   },
   "file_extension": ".py",
   "mimetype": "text/x-python",
   "name": "python",
   "nbconvert_exporter": "python",
   "pygments_lexer": "ipython3",
   "version": "3.9.15"
  },
  "orig_nbformat": 4,
  "vscode": {
   "interpreter": {
    "hash": "1cf393c3039a30896e3b8cf266fdc79c31325ea8afb58428b96dc04365e10d1b"
   }
  }
 },
 "nbformat": 4,
 "nbformat_minor": 2
}
