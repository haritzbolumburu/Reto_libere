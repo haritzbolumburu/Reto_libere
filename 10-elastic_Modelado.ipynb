{
 "cells": [
  {
   "cell_type": "code",
   "execution_count": 1,
   "metadata": {},
   "outputs": [],
   "source": [
    "from elasticsearch import Elasticsearch\n",
    "from datetime import datetime as dt\n",
    "import pandas as pd\n",
    "import numpy as np\n",
    "from csv import DictReader\n",
    "import os"
   ]
  },
  {
   "cell_type": "markdown",
   "metadata": {},
   "source": [
    "### Creamos la conexion con elastic"
   ]
  },
  {
   "cell_type": "code",
   "execution_count": 4,
   "metadata": {},
   "outputs": [
    {
     "data": {
      "text/plain": [
       "ObjectApiResponse({'name': 'bdata2-VirtualBox', 'cluster_name': 'elasticsearch', 'cluster_uuid': '6XmqEv5uSK-hr779sbmGdg', 'version': {'number': '8.4.3', 'build_flavor': 'default', 'build_type': 'tar', 'build_hash': '42f05b9372a9a4a470db3b52817899b99a76ee73', 'build_date': '2022-10-04T07:17:24.662462378Z', 'build_snapshot': False, 'lucene_version': '9.3.0', 'minimum_wire_compatibility_version': '7.17.0', 'minimum_index_compatibility_version': '7.0.0'}, 'tagline': 'You Know, for Search'})"
      ]
     },
     "execution_count": 4,
     "metadata": {},
     "output_type": "execute_result"
    }
   ],
   "source": [
    "ELASTIC_PASSWORD ='vN0W3+GJfq8X4X9WgYFx' #haritz\n",
    "\n",
    "client=Elasticsearch(\n",
    "    \"https://localhost:9200\",\n",
    "    ca_certs=\"/home/bdata2/elasticsearch-8.4.3/config/certs/http_ca.crt\",\n",
    "    basic_auth=(\"elastic\", ELASTIC_PASSWORD)\n",
    ")\n",
    "\n",
    "client.info()"
   ]
  },
  {
   "cell_type": "markdown",
   "metadata": {},
   "source": [
    "### Dataframes de train y test"
   ]
  },
  {
   "cell_type": "code",
   "execution_count": 5,
   "metadata": {},
   "outputs": [],
   "source": [
    "with open('./Datos/Transformados/df_train.csv', 'r') as fichero:\n",
    "    csv_dict = DictReader(fichero)\n",
    "    indice = 0\n",
    "    for row in csv_dict:\n",
    "        row['product_count'] = int(row['product_count'])\n",
    "        row['recurrence'] = int(row['recurrence'])\n",
    "        row['age_nan'] = int(row['age_nan'])\n",
    "        row['duracion_reserva'] = int(row['duracion_reserva'])\n",
    "        row['+80'] = int(row['+80'])\n",
    "        row['16-18'] = int(row['16-18'])\n",
    "        row['18-24'] = int(row['18-24'])\n",
    "        row['25-35'] = int(row['25-35'])\n",
    "        row['35-50'] = int(row['35-50'])\n",
    "        row['50-65'] = int(row['50-65'])\n",
    "        row['65-80'] = int(row['65-80'])\n",
    "        row['All Iron Staff'] = int(row['All Iron Staff'])\n",
    "        row['Business Group'] = int(row['Business Group'])\n",
    "        row['Leisure Group'] = int(row['Leisure Group'])\n",
    "        row['Leisure Individual'] = int(row['Leisure Individual'])\n",
    "        row['Mid-Long Stay'] = int(row['Mid-Long Stay'])\n",
    "        row['Travel Group'] = int(row['Travel Group'])\n",
    "        row['Travel Individual'] = int(row['Travel Individual'])\n",
    "        row['flexible'] = int(row['flexible'])\n",
    "        row['non_refundable'] = int(row['non_refundable'])\n",
    "        row['other'] = int(row['other'])\n",
    "        row['lluvia'] = int(row['lluvia'])\n",
    "        row['tormenta'] = int(row['tormenta'])\n",
    "        row['libere'] = int(row['libere'])\n",
    "        row['naitly'] = int(row['naitly'])\n",
    "        row['aparthotel'] = int(row['aparthotel'])\n",
    "        row['apartment'] = int(row['apartment'])\n",
    "        row['cancellation'] = bool(row['cancellation'])\n",
    "        \n",
    "        resp = client.index(index = 'reto06_morado_df_train', id = indice, document=row)\n",
    "        indice = indice + 1"
   ]
  },
  {
   "cell_type": "code",
   "execution_count": 6,
   "metadata": {},
   "outputs": [
    {
     "name": "stdout",
     "output_type": "stream",
     "text": [
      "7401\n"
     ]
    }
   ],
   "source": [
    "resp=client.search(index=\"reto06_morado_df_train\", query={\"match_all\":{}})\n",
    "print(resp['hits']['total']['value'])"
   ]
  },
  {
   "cell_type": "code",
   "execution_count": 7,
   "metadata": {},
   "outputs": [],
   "source": [
    "with open('./Datos/Transformados/df_test.csv', 'r') as fichero:\n",
    "    csv_dict = DictReader(fichero)\n",
    "    indice = 0\n",
    "    for row in csv_dict:\n",
    "        row['product_count'] = int(row['product_count'])\n",
    "        row['recurrence'] = int(row['recurrence'])\n",
    "        row['age_nan'] = int(row['age_nan'])\n",
    "        row['duracion_reserva'] = int(row['duracion_reserva'])\n",
    "        row['+80'] = int(row['+80'])\n",
    "        row['16-18'] = int(row['16-18'])\n",
    "        row['18-24'] = int(row['18-24'])\n",
    "        row['25-35'] = int(row['25-35'])\n",
    "        row['35-50'] = int(row['35-50'])\n",
    "        row['50-65'] = int(row['50-65'])\n",
    "        row['65-80'] = int(row['65-80'])\n",
    "        row['All Iron Staff'] = int(row['All Iron Staff'])\n",
    "        row['Business Group'] = int(row['Business Group'])\n",
    "        row['Leisure Group'] = int(row['Leisure Group'])\n",
    "        row['Leisure Individual'] = int(row['Leisure Individual'])\n",
    "        row['Mid-Long Stay'] = int(row['Mid-Long Stay'])\n",
    "        row['Travel Group'] = int(row['Travel Group'])\n",
    "        row['Travel Individual'] = int(row['Travel Individual'])\n",
    "        row['flexible'] = int(row['flexible'])\n",
    "        row['non_refundable'] = int(row['non_refundable'])\n",
    "        row['other'] = int(row['other'])\n",
    "        row['lluvia'] = int(row['lluvia'])\n",
    "        row['tormenta'] = int(row['tormenta'])\n",
    "        row['libere'] = int(row['libere'])\n",
    "        row['naitly'] = int(row['naitly'])\n",
    "        row['aparthotel'] = int(row['aparthotel'])\n",
    "        row['apartment'] = int(row['apartment'])\n",
    "        row['cancellation'] = bool(row['cancellation'])\n",
    "        \n",
    "        resp = client.index(index = 'reto06_morado_df_test', id = indice, document=row)\n",
    "        indice = indice + 1"
   ]
  },
  {
   "cell_type": "code",
   "execution_count": 8,
   "metadata": {},
   "outputs": [
    {
     "name": "stdout",
     "output_type": "stream",
     "text": [
      "3173\n"
     ]
    }
   ],
   "source": [
    "resp=client.search(index=\"reto06_morado_df_test\", query={\"match_all\":{}})\n",
    "print(resp['hits']['total']['value'])"
   ]
  },
  {
   "cell_type": "markdown",
   "metadata": {},
   "source": [
    "### Resultados del modelado sobre cancelaciones"
   ]
  },
  {
   "cell_type": "code",
   "execution_count": 9,
   "metadata": {},
   "outputs": [],
   "source": [
    "with open('./Datos/Transformados/resultados.csv', 'r') as fichero:\n",
    "    csv_dict = DictReader(fichero)\n",
    "    indice = 0\n",
    "    for row in csv_dict:\n",
    "        row['highest_score'] = float(row['highest_score'])\n",
    "        row['segundos'] = float(row['segundos'])\n",
    "        row['hora_subida'] = pd.to_datetime(row['hora_subida'])\n",
    "        resp = client.index(index = 'reto06_morado_resultados_modelos', id = indice, document=row)\n",
    "        indice = indice + 1"
   ]
  },
  {
   "cell_type": "code",
   "execution_count": 10,
   "metadata": {},
   "outputs": [
    {
     "name": "stdout",
     "output_type": "stream",
     "text": [
      "40\n"
     ]
    }
   ],
   "source": [
    "resp=client.search(index=\"reto06_morado_resultados_modelos\", query={\"match_all\":{}})\n",
    "print(resp['hits']['total']['value'])\n"
   ]
  },
  {
   "cell_type": "code",
   "execution_count": 12,
   "metadata": {},
   "outputs": [
    {
     "name": "stdout",
     "output_type": "stream",
     "text": [
      "6\n",
      "{'model_used': 'LogisticRegression(max_iter=10000)', 'highest_score': 0.9432512728799022, 'best hyperparameters': \"{'C': 1}\", 'balanceo': 'sin_balanceo', 'segundos': 5.375005006790161, 'hora_subida': '2023-01-22T11:06:55.171158'}\n",
      "{'model_used': 'SVC()', 'highest_score': 0.9416297425041517, 'best hyperparameters': \"{'C': 2, 'kernel': 'rbf'}\", 'balanceo': 'sin_balanceo', 'segundos': 24.082744359970093, 'hora_subida': '2023-01-22T11:07:13.878895'}\n",
      "{'model_used': 'LogisticRegression(max_iter=10000)', 'highest_score': 0.9737500000000001, 'best hyperparameters': \"{'C': 20}\", 'balanceo': 'SMOTEENN(random_state=0)', 'segundos': 36.93844127655029, 'hora_subida': '2023-01-22T11:07:50.864655'}\n",
      "{'model_used': 'SVC()', 'highest_score': 0.9779545454545454, 'best hyperparameters': \"{'C': 3, 'kernel': 'rbf'}\", 'balanceo': 'SMOTEENN(random_state=0)', 'segundos': 49.38101768493652, 'hora_subida': '2023-01-22T11:08:03.307213'}\n",
      "{'model_used': 'LogisticRegression(max_iter=10000)', 'highest_score': 0.9429580270964314, 'best hyperparameters': \"{'C': 1}\", 'balanceo': 'TomekLinks()', 'segundos': 5.766707181930542, 'hora_subida': '2023-01-22T11:11:54.252440'}\n",
      "{'model_used': 'SVC()', 'highest_score': 0.9417355699695978, 'best hyperparameters': \"{'C': 3, 'kernel': 'rbf'}\", 'balanceo': 'TomekLinks()', 'segundos': 24.581010818481445, 'hora_subida': '2023-01-22T11:12:13.066743'}\n"
     ]
    }
   ],
   "source": [
    "resp=client.search(index=\"reto06_morado_resultados_modelos\", query={\"range\":{\"highest_score\":{\"gte\":0.94}}})\n",
    "print(resp['hits']['total']['value'])\n",
    "for i in range(0,resp['hits']['total']['value']):\n",
    "    print(resp['hits']['hits'][i]['_source'])"
   ]
  }
 ],
 "metadata": {
  "kernelspec": {
   "display_name": "Python 3.9.15 ('Reto06_Morado')",
   "language": "python",
   "name": "python3"
  },
  "language_info": {
   "codemirror_mode": {
    "name": "ipython",
    "version": 3
   },
   "file_extension": ".py",
   "mimetype": "text/x-python",
   "name": "python",
   "nbconvert_exporter": "python",
   "pygments_lexer": "ipython3",
   "version": "3.9.15"
  },
  "orig_nbformat": 4,
  "vscode": {
   "interpreter": {
    "hash": "1cf393c3039a30896e3b8cf266fdc79c31325ea8afb58428b96dc04365e10d1b"
   }
  }
 },
 "nbformat": 4,
 "nbformat_minor": 2
}
