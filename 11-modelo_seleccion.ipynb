{
 "cells": [
  {
   "cell_type": "code",
   "execution_count": 1,
   "metadata": {},
   "outputs": [
    {
     "name": "stderr",
     "output_type": "stream",
     "text": [
      "/tmp/ipykernel_2656/1977088918.py:4: DeprecationWarning: Importing display from IPython.core.display is deprecated since IPython 7.14, please import from IPython display\n",
      "  from IPython.core.display import display, HTML\n"
     ]
    },
    {
     "data": {
      "text/html": [
       "<style>.container { width:100% !important; }</style>"
      ],
      "text/plain": [
       "<IPython.core.display.HTML object>"
      ]
     },
     "metadata": {},
     "output_type": "display_data"
    }
   ],
   "source": [
    "\n",
    "import pandas as pd\n",
    "import os\n",
    "import datetime as dt\n",
    "from IPython.core.display import display, HTML\n",
    "display(HTML(\"<style>.container { width:100% !important; }</style>\"))\n",
    "import matplotlib\n",
    "from sklearn.model_selection import cross_val_score, GridSearchCV, train_test_split\n",
    "from sklearn.linear_model import LogisticRegression , LinearRegression, Lasso, Ridge, ElasticNet, TweedieRegressor \n",
    "from sklearn.svm import SVC\n",
    "from sklearn.preprocessing import label_binarize\n",
    "from sklearn.multiclass import OneVsRestClassifier\n",
    "from sklearn.metrics import classification_report, confusion_matrix, plot_confusion_matrix, roc_auc_score, roc_curve, auc\n",
    "from sklearn.naive_bayes import GaussianNB, BernoulliNB, MultinomialNB\n",
    "import matplotlib.pyplot as plt\n",
    "import numpy as np\n",
    "from itertools import cycle\n",
    "from imblearn.over_sampling import SMOTE, ADASYN\n",
    "from imblearn.under_sampling import NearMiss, EditedNearestNeighbours, TomekLinks\n",
    "from collections import Counter  \n",
    "from imblearn.datasets import make_imbalance  \n",
    "from imblearn.combine import SMOTETomek, SMOTEENN\n",
    "from imblearn.metrics import classification_report_imbalanced\n",
    "from imblearn.pipeline import make_pipeline\n",
    "from time import time\n",
    "import packages.modelado as MD\n",
    "from elasticsearch import Elasticsearch\n",
    "from csv import DictReader\n",
    "import os"
   ]
  },
  {
   "cell_type": "markdown",
   "metadata": {},
   "source": [
    "# Cargar Train y Test"
   ]
  },
  {
   "cell_type": "code",
   "execution_count": 2,
   "metadata": {},
   "outputs": [],
   "source": [
    "train=pd.read_csv(os.path.join(\"./Datos/Transformados/df_train.csv\"))\n",
    "test=pd.read_csv(os.path.join(\"./Datos/Transformados/df_test.csv\"))"
   ]
  },
  {
   "cell_type": "code",
   "execution_count": 3,
   "metadata": {},
   "outputs": [],
   "source": [
    "ytr=train.iloc[:,-1]\n",
    "xtr=train.iloc[:,0:-1]\n",
    "yte=test.iloc[:,-1]\n",
    "xte=test.iloc[:,0:-1]\n",
    "RANDOM_STATE=0"
   ]
  },
  {
   "cell_type": "markdown",
   "metadata": {},
   "source": [
    "# Filtramos modelos con accuracy alto"
   ]
  },
  {
   "cell_type": "code",
   "execution_count": 4,
   "metadata": {},
   "outputs": [
    {
     "data": {
      "text/plain": [
       "ObjectApiResponse({'name': 'bdata2-VirtualBox', 'cluster_name': 'elasticsearch', 'cluster_uuid': '6XmqEv5uSK-hr779sbmGdg', 'version': {'number': '8.4.3', 'build_flavor': 'default', 'build_type': 'tar', 'build_hash': '42f05b9372a9a4a470db3b52817899b99a76ee73', 'build_date': '2022-10-04T07:17:24.662462378Z', 'build_snapshot': False, 'lucene_version': '9.3.0', 'minimum_wire_compatibility_version': '7.17.0', 'minimum_index_compatibility_version': '7.0.0'}, 'tagline': 'You Know, for Search'})"
      ]
     },
     "execution_count": 4,
     "metadata": {},
     "output_type": "execute_result"
    }
   ],
   "source": [
    "ELASTIC_PASSWORD ='2YVO0+eOKT26mMmpynP3' #haritz\n",
    "\n",
    "client=Elasticsearch(\n",
    "    \"https://localhost:9200\",\n",
    "    ca_certs=\"/home/bdata2/elasticsearch-8.4.3/config/certs/http_ca.crt\",\n",
    "    basic_auth=(\"elastic\", ELASTIC_PASSWORD)\n",
    ")\n",
    "\n",
    "client.info()"
   ]
  },
  {
   "cell_type": "code",
   "execution_count": 5,
   "metadata": {},
   "outputs": [
    {
     "name": "stdout",
     "output_type": "stream",
     "text": [
      "6\n",
      "{'model_used': 'LogisticRegression(max_iter=10000)', 'highest_score': 0.9432512728799022, 'best hyperparameters': \"{'C': 1}\", 'balanceo': 'sin_balanceo', 'segundos': 6.162464380264282, 'hora_subida': '2023-01-21T23:50:46.591354'}\n",
      "{'model_used': 'SVC()', 'highest_score': 0.9416297425041517, 'best hyperparameters': \"{'C': 2, 'kernel': 'rbf'}\", 'balanceo': 'sin_balanceo', 'segundos': 22.04225254058838, 'hora_subida': '2023-01-21T23:51:02.471143'}\n",
      "{'model_used': 'LogisticRegression(max_iter=10000)', 'highest_score': 0.9717107278759208, 'best hyperparameters': \"{'C': 20}\", 'balanceo': 'SMOTEENN(random_state=0)', 'segundos': 11.043448209762573, 'hora_subida': '2023-01-21T23:51:16.769702'}\n",
      "{'model_used': 'SVC()', 'highest_score': 0.9752880203780748, 'best hyperparameters': \"{'C': 3, 'kernel': 'rbf'}\", 'balanceo': 'SMOTEENN(random_state=0)', 'segundos': 29.25637149810791, 'hora_subida': '2023-01-21T23:51:34.982625'}\n",
      "{'model_used': 'LogisticRegression(max_iter=10000)', 'highest_score': 0.9429580270964314, 'best hyperparameters': \"{'C': 1}\", 'balanceo': 'TomekLinks()', 'segundos': 7.419516563415527, 'hora_subida': '2023-01-21T23:55:41.160400'}\n",
      "{'model_used': 'SVC()', 'highest_score': 0.9417355699695978, 'best hyperparameters': \"{'C': 3, 'kernel': 'rbf'}\", 'balanceo': 'TomekLinks()', 'segundos': 24.957669496536255, 'hora_subida': '2023-01-21T23:55:58.698554'}\n"
     ]
    }
   ],
   "source": [
    "resp=client.search(index=\"prueba_resultados_modelos\", query={\"range\":{\"highest_score\":{\"gte\":0.94}}})\n",
    "print(resp['hits']['total']['value'])\n",
    "for i in range(0,resp['hits']['total']['value']):\n",
    "    print(resp['hits']['hits'][i]['_source'])"
   ]
  },
  {
   "cell_type": "markdown",
   "metadata": {},
   "source": [
    "# APLICAR MODELO FINAL"
   ]
  },
  {
   "cell_type": "code",
   "execution_count": 4,
   "metadata": {},
   "outputs": [
    {
     "name": "stdout",
     "output_type": "stream",
     "text": [
      "DATOS DESBALANCEADOS\n",
      "False    5735\n",
      "True     1666\n",
      "Name: cancellation, dtype: int64\n",
      "DATOS BALANCEADOS\n",
      "True     4754\n",
      "False    4189\n",
      "Name: cancellation, dtype: int64\n",
      "La precision media es de : 0.9416955562559093\n",
      "EL area bajo la curva de ROC es de : 0.8833687602735278\n",
      "Classification report for classifier LogisticRegression(C=20, max_iter=10000, random_state=0):\n",
      "              precision    recall  f1-score   support\n",
      "\n",
      "       False     0.9387    0.9894    0.9634      2459\n",
      "        True     0.9552    0.7773    0.8571       714\n",
      "\n",
      "    accuracy                         0.9417      3173\n",
      "   macro avg     0.9470    0.8834    0.9103      3173\n",
      "weighted avg     0.9424    0.9417    0.9395      3173\n",
      "\n",
      "\n",
      "Confusion matrix:\n",
      "[[2433   26]\n",
      " [ 159  555]]\n"
     ]
    },
    {
     "name": "stderr",
     "output_type": "stream",
     "text": [
      "/home/bdata2/anaconda3/envs/morado_reto06/lib/python3.9/site-packages/sklearn/utils/deprecation.py:87: FutureWarning: Function plot_confusion_matrix is deprecated; Function `plot_confusion_matrix` is deprecated in 1.0 and will be removed in 1.2. Use one of the class methods: ConfusionMatrixDisplay.from_predictions or ConfusionMatrixDisplay.from_estimator.\n",
      "  warnings.warn(msg, category=FutureWarning)\n"
     ]
    },
    {
     "data": {
      "image/png": "[encoded data removed]",
      "text/plain": [
       "<Figure size 640x480 with 2 Axes>"
      ]
     },
     "metadata": {},
     "output_type": "display_data"
    }
   ],
   "source": [
    "MD.modelo_final(LogisticRegression(max_iter=10000, C=20, random_state=RANDOM_STATE), SMOTEENN(random_state=0),xtr,ytr,xte, yte)"
   ]
  },
  {
   "cell_type": "code",
   "execution_count": 5,
   "metadata": {},
   "outputs": [
    {
     "name": "stdout",
     "output_type": "stream",
     "text": [
      "DATOS DESBALANCEADOS\n",
      "False    5735\n",
      "True     1666\n",
      "Name: cancellation, dtype: int64\n",
      "DATOS BALANCEADOS\n",
      "True     4754\n",
      "False    4189\n",
      "Name: cancellation, dtype: int64\n",
      "La precision media es de : 0.9375984872360542\n",
      "EL area bajo la curva de ROC es de : 0.8837070818567361\n",
      "Classification report for classifier SVC(C=3):\n",
      "              precision    recall  f1-score   support\n",
      "\n",
      "       False     0.9404    0.9817    0.9606      2459\n",
      "        True     0.9257    0.7857    0.8500       714\n",
      "\n",
      "    accuracy                         0.9376      3173\n",
      "   macro avg     0.9331    0.8837    0.9053      3173\n",
      "weighted avg     0.9371    0.9376    0.9357      3173\n",
      "\n",
      "\n",
      "Confusion matrix:\n",
      "[[2414   45]\n",
      " [ 153  561]]\n"
     ]
    },
    {
     "name": "stderr",
     "output_type": "stream",
     "text": [
      "/home/bdata2/anaconda3/envs/morado_reto06/lib/python3.9/site-packages/sklearn/utils/deprecation.py:87: FutureWarning: Function plot_confusion_matrix is deprecated; Function `plot_confusion_matrix` is deprecated in 1.0 and will be removed in 1.2. Use one of the class methods: ConfusionMatrixDisplay.from_predictions or ConfusionMatrixDisplay.from_estimator.\n",
      "  warnings.warn(msg, category=FutureWarning)\n"
     ]
    },
    {
     "data": {
      "image/png": "[encoded data removed]",
      "text/plain": [
       "<Figure size 640x480 with 2 Axes>"
      ]
     },
     "metadata": {},
     "output_type": "display_data"
    }
   ],
   "source": [
    "MD.modelo_final(SVC(kernel=\"rbf\", C=3), SMOTEENN(random_state=0),xtr,ytr,xte, yte)"
   ]
  },
  {
   "cell_type": "code",
   "execution_count": 6,
   "metadata": {},
   "outputs": [
    {
     "name": "stdout",
     "output_type": "stream",
     "text": [
      "La precision media es de : 0.9432713520327766\n",
      "EL area bajo la curva de ROC es de : 0.8799129249096954\n",
      "Classification report for classifier LogisticRegression(C=1, max_iter=10000, random_state=0):\n",
      "              precision    recall  f1-score   support\n",
      "\n",
      "       False     0.9358    0.9951    0.9645      2459\n",
      "        True     0.9785    0.7647    0.8585       714\n",
      "\n",
      "    accuracy                         0.9433      3173\n",
      "   macro avg     0.9571    0.8799    0.9115      3173\n",
      "weighted avg     0.9454    0.9433    0.9407      3173\n",
      "\n",
      "\n",
      "Confusion matrix:\n",
      "[[2447   12]\n",
      " [ 168  546]]\n"
     ]
    },
    {
     "name": "stderr",
     "output_type": "stream",
     "text": [
      "/home/bdata2/anaconda3/envs/morado_reto06/lib/python3.9/site-packages/sklearn/utils/deprecation.py:87: FutureWarning: Function plot_confusion_matrix is deprecated; Function `plot_confusion_matrix` is deprecated in 1.0 and will be removed in 1.2. Use one of the class methods: ConfusionMatrixDisplay.from_predictions or ConfusionMatrixDisplay.from_estimator.\n",
      "  warnings.warn(msg, category=FutureWarning)\n"
     ]
    },
    {
     "data": {
      "image/png": "[encoded data removed]",
      "text/plain": [
       "<Figure size 640x480 with 2 Axes>"
      ]
     },
     "metadata": {},
     "output_type": "display_data"
    }
   ],
   "source": [
    "MD.modelo_final_sin_balanceo(LogisticRegression(max_iter=10000, C=1, random_state=RANDOM_STATE),xtr,ytr,xte, yte)"
   ]
  },
  {
   "cell_type": "code",
   "execution_count": 9,
   "metadata": {},
   "outputs": [
    {
     "name": "stdout",
     "output_type": "stream",
     "text": [
      "DATOS DESBALANCEADOS\n",
      "False    5735\n",
      "True     1666\n",
      "Name: cancellation, dtype: int64\n",
      "DATOS BALANCEADOS\n",
      "False    5697\n",
      "True     1666\n",
      "Name: cancellation, dtype: int64\n",
      "La precision media es de : 0.9432713520327766\n",
      "EL area bajo la curva de ROC es de : 0.8799129249096954\n",
      "Classification report for classifier LogisticRegression(C=1, max_iter=10000, random_state=0):\n",
      "              precision    recall  f1-score   support\n",
      "\n",
      "       False     0.9358    0.9951    0.9645      2459\n",
      "        True     0.9785    0.7647    0.8585       714\n",
      "\n",
      "    accuracy                         0.9433      3173\n",
      "   macro avg     0.9571    0.8799    0.9115      3173\n",
      "weighted avg     0.9454    0.9433    0.9407      3173\n",
      "\n",
      "\n",
      "Confusion matrix:\n",
      "[[2447   12]\n",
      " [ 168  546]]\n"
     ]
    },
    {
     "name": "stderr",
     "output_type": "stream",
     "text": [
      "/home/bdata2/anaconda3/lib/python3.9/site-packages/sklearn/utils/deprecation.py:87: FutureWarning: Function plot_confusion_matrix is deprecated; Function `plot_confusion_matrix` is deprecated in 1.0 and will be removed in 1.2. Use one of the class methods: ConfusionMatrixDisplay.from_predictions or ConfusionMatrixDisplay.from_estimator.\n",
      "  warnings.warn(msg, category=FutureWarning)\n"
     ]
    },
    {
     "data": {
      "image/png": "[encoded data removed]",
      "text/plain": [
       "<Figure size 640x480 with 2 Axes>"
      ]
     },
     "metadata": {},
     "output_type": "display_data"
    }
   ],
   "source": [
    "MD.modelo_final(LogisticRegression(max_iter=10000, C=1, random_state=RANDOM_STATE), TomekLinks(),xtr,ytr,xte, yte)"
   ]
  },
  {
   "cell_type": "code",
   "execution_count": 8,
   "metadata": {},
   "outputs": [
    {
     "name": "stdout",
     "output_type": "stream",
     "text": [
      "La precision media es de : 0.9423258745666562\n",
      "EL area bajo la curva de ROC es de : 0.8783090299967079\n",
      "Classification report for classifier SVC(C=2):\n",
      "              precision    recall  f1-score   support\n",
      "\n",
      "       False     0.9350    0.9947    0.9639      2459\n",
      "        True     0.9767    0.7619    0.8560       714\n",
      "\n",
      "    accuracy                         0.9423      3173\n",
      "   macro avg     0.9558    0.8783    0.9100      3173\n",
      "weighted avg     0.9444    0.9423    0.9397      3173\n",
      "\n",
      "\n",
      "Confusion matrix:\n",
      "[[2446   13]\n",
      " [ 170  544]]\n"
     ]
    },
    {
     "name": "stderr",
     "output_type": "stream",
     "text": [
      "/home/bdata2/anaconda3/envs/morado_reto06/lib/python3.9/site-packages/sklearn/utils/deprecation.py:87: FutureWarning: Function plot_confusion_matrix is deprecated; Function `plot_confusion_matrix` is deprecated in 1.0 and will be removed in 1.2. Use one of the class methods: ConfusionMatrixDisplay.from_predictions or ConfusionMatrixDisplay.from_estimator.\n",
      "  warnings.warn(msg, category=FutureWarning)\n"
     ]
    },
    {
     "data": {
      "image/png": "[encoded data removed]",
      "text/plain": [
       "<Figure size 640x480 with 2 Axes>"
      ]
     },
     "metadata": {},
     "output_type": "display_data"
    }
   ],
   "source": [
    "MD.modelo_final_sin_balanceo(SVC(C=2, kernel=\"rbf\"),xtr,ytr,xte, yte)"
   ]
  },
  {
   "cell_type": "code",
   "execution_count": 9,
   "metadata": {},
   "outputs": [
    {
     "name": "stdout",
     "output_type": "stream",
     "text": [
      "DATOS DESBALANCEADOS\n",
      "False    5735\n",
      "True     1666\n",
      "Name: cancellation, dtype: int64\n",
      "DATOS BALANCEADOS\n",
      "False    5697\n",
      "True     1666\n",
      "Name: cancellation, dtype: int64\n",
      "La precision media es de : 0.9423258745666562\n",
      "EL area bajo la curva de ROC es de : 0.8783090299967079\n",
      "Classification report for classifier SVC(C=3, random_state=0):\n",
      "              precision    recall  f1-score   support\n",
      "\n",
      "       False     0.9350    0.9947    0.9639      2459\n",
      "        True     0.9767    0.7619    0.8560       714\n",
      "\n",
      "    accuracy                         0.9423      3173\n",
      "   macro avg     0.9558    0.8783    0.9100      3173\n",
      "weighted avg     0.9444    0.9423    0.9397      3173\n",
      "\n",
      "\n",
      "Confusion matrix:\n",
      "[[2446   13]\n",
      " [ 170  544]]\n"
     ]
    },
    {
     "name": "stderr",
     "output_type": "stream",
     "text": [
      "/home/bdata2/anaconda3/envs/morado_reto06/lib/python3.9/site-packages/sklearn/utils/deprecation.py:87: FutureWarning: Function plot_confusion_matrix is deprecated; Function `plot_confusion_matrix` is deprecated in 1.0 and will be removed in 1.2. Use one of the class methods: ConfusionMatrixDisplay.from_predictions or ConfusionMatrixDisplay.from_estimator.\n",
      "  warnings.warn(msg, category=FutureWarning)\n"
     ]
    },
    {
     "data": {
      "image/png": "[encoded data removed]",
      "text/plain": [
       "<Figure size 640x480 with 2 Axes>"
      ]
     },
     "metadata": {},
     "output_type": "display_data"
    }
   ],
   "source": [
    "MD.modelo_final(SVC(kernel=\"rbf\", C=3, random_state=RANDOM_STATE), TomekLinks(),xtr,ytr,xte, yte)"
   ]
  },
  {
   "cell_type": "markdown",
   "metadata": {},
   "source": [
    "# Coeficientes"
   ]
  },
  {
   "cell_type": "code",
   "execution_count": 14,
   "metadata": {},
   "outputs": [],
   "source": [
    "coef=MD.coeficientes_logis(LogisticRegression(max_iter=10000, C=20, random_state=RANDOM_STATE), SMOTEENN(random_state=0), xtr, ytr)"
   ]
  },
  {
   "cell_type": "code",
   "execution_count": 15,
   "metadata": {},
   "outputs": [
    {
     "data": {
      "text/html": [
       "<div>\n",
       "<style scoped>\n",
       "    .dataframe tbody tr th:only-of-type {\n",
       "        vertical-align: middle;\n",
       "    }\n",
       "\n",
       "    .dataframe tbody tr th {\n",
       "        vertical-align: top;\n",
       "    }\n",
       "\n",
       "    .dataframe thead th {\n",
       "        text-align: right;\n",
       "    }\n",
       "</style>\n",
       "<table border=\"1\" class=\"dataframe\">\n",
       "  <thead>\n",
       "    <tr style=\"text-align: right;\">\n",
       "      <th></th>\n",
       "      <th>columna</th>\n",
       "      <th>coeficiente</th>\n",
       "    </tr>\n",
       "  </thead>\n",
       "  <tbody>\n",
       "    <tr>\n",
       "      <th>27</th>\n",
       "      <td>otro</td>\n",
       "      <td>-8.755209</td>\n",
       "    </tr>\n",
       "    <tr>\n",
       "      <th>24</th>\n",
       "      <td>niebla</td>\n",
       "      <td>-8.742932</td>\n",
       "    </tr>\n",
       "    <tr>\n",
       "      <th>7</th>\n",
       "      <td>25-35</td>\n",
       "      <td>-8.380008</td>\n",
       "    </tr>\n",
       "    <tr>\n",
       "      <th>10</th>\n",
       "      <td>65-80</td>\n",
       "      <td>-8.314309</td>\n",
       "    </tr>\n",
       "    <tr>\n",
       "      <th>9</th>\n",
       "      <td>50-65</td>\n",
       "      <td>-7.694037</td>\n",
       "    </tr>\n",
       "    <tr>\n",
       "      <th>6</th>\n",
       "      <td>18-24</td>\n",
       "      <td>-7.673560</td>\n",
       "    </tr>\n",
       "    <tr>\n",
       "      <th>8</th>\n",
       "      <td>35-50</td>\n",
       "      <td>-7.474636</td>\n",
       "    </tr>\n",
       "    <tr>\n",
       "      <th>22</th>\n",
       "      <td>lluvia</td>\n",
       "      <td>-7.412203</td>\n",
       "    </tr>\n",
       "    <tr>\n",
       "      <th>20</th>\n",
       "      <td>non_refundable</td>\n",
       "      <td>-7.403674</td>\n",
       "    </tr>\n",
       "    <tr>\n",
       "      <th>33</th>\n",
       "      <td>apartment</td>\n",
       "      <td>-7.344810</td>\n",
       "    </tr>\n",
       "    <tr>\n",
       "      <th>29</th>\n",
       "      <td>tormenta</td>\n",
       "      <td>-7.318099</td>\n",
       "    </tr>\n",
       "    <tr>\n",
       "      <th>30</th>\n",
       "      <td>libere</td>\n",
       "      <td>-7.196943</td>\n",
       "    </tr>\n",
       "    <tr>\n",
       "      <th>26</th>\n",
       "      <td>nublado</td>\n",
       "      <td>-6.924231</td>\n",
       "    </tr>\n",
       "    <tr>\n",
       "      <th>28</th>\n",
       "      <td>soleado</td>\n",
       "      <td>-6.911933</td>\n",
       "    </tr>\n",
       "    <tr>\n",
       "      <th>25</th>\n",
       "      <td>nieve</td>\n",
       "      <td>-6.659338</td>\n",
       "    </tr>\n",
       "    <tr>\n",
       "      <th>23</th>\n",
       "      <td>lluvias_fuertes</td>\n",
       "      <td>-6.651389</td>\n",
       "    </tr>\n",
       "    <tr>\n",
       "      <th>31</th>\n",
       "      <td>naitly</td>\n",
       "      <td>-6.513210</td>\n",
       "    </tr>\n",
       "    <tr>\n",
       "      <th>21</th>\n",
       "      <td>other</td>\n",
       "      <td>-6.313606</td>\n",
       "    </tr>\n",
       "    <tr>\n",
       "      <th>5</th>\n",
       "      <td>16-18</td>\n",
       "      <td>-6.006224</td>\n",
       "    </tr>\n",
       "    <tr>\n",
       "      <th>16</th>\n",
       "      <td>Mid-Long Stay</td>\n",
       "      <td>-6.005389</td>\n",
       "    </tr>\n",
       "    <tr>\n",
       "      <th>19</th>\n",
       "      <td>flexible</td>\n",
       "      <td>-5.782199</td>\n",
       "    </tr>\n",
       "    <tr>\n",
       "      <th>32</th>\n",
       "      <td>aparthotel</td>\n",
       "      <td>-5.547777</td>\n",
       "    </tr>\n",
       "    <tr>\n",
       "      <th>14</th>\n",
       "      <td>Leisure Group</td>\n",
       "      <td>-5.095223</td>\n",
       "    </tr>\n",
       "    <tr>\n",
       "      <th>4</th>\n",
       "      <td>+80</td>\n",
       "      <td>-4.292813</td>\n",
       "    </tr>\n",
       "    <tr>\n",
       "      <th>17</th>\n",
       "      <td>Travel Group</td>\n",
       "      <td>-4.257922</td>\n",
       "    </tr>\n",
       "    <tr>\n",
       "      <th>13</th>\n",
       "      <td>Business Individual</td>\n",
       "      <td>-3.064569</td>\n",
       "    </tr>\n",
       "    <tr>\n",
       "      <th>18</th>\n",
       "      <td>Travel Individual</td>\n",
       "      <td>-2.599611</td>\n",
       "    </tr>\n",
       "    <tr>\n",
       "      <th>15</th>\n",
       "      <td>Leisure Individual</td>\n",
       "      <td>-1.507053</td>\n",
       "    </tr>\n",
       "    <tr>\n",
       "      <th>1</th>\n",
       "      <td>recurrence</td>\n",
       "      <td>-0.784111</td>\n",
       "    </tr>\n",
       "    <tr>\n",
       "      <th>0</th>\n",
       "      <td>product_count</td>\n",
       "      <td>-0.415888</td>\n",
       "    </tr>\n",
       "    <tr>\n",
       "      <th>11</th>\n",
       "      <td>All Iron Staff</td>\n",
       "      <td>-0.225751</td>\n",
       "    </tr>\n",
       "    <tr>\n",
       "      <th>3</th>\n",
       "      <td>duracion_reserva</td>\n",
       "      <td>0.099628</td>\n",
       "    </tr>\n",
       "    <tr>\n",
       "      <th>12</th>\n",
       "      <td>Business Group</td>\n",
       "      <td>0.103922</td>\n",
       "    </tr>\n",
       "    <tr>\n",
       "      <th>2</th>\n",
       "      <td>age_nan</td>\n",
       "      <td>10.406141</td>\n",
       "    </tr>\n",
       "  </tbody>\n",
       "</table>\n",
       "</div>"
      ],
      "text/plain": [
       "                columna  coeficiente\n",
       "27                 otro    -8.755209\n",
       "24               niebla    -8.742932\n",
       "7                 25-35    -8.380008\n",
       "10                65-80    -8.314309\n",
       "9                 50-65    -7.694037\n",
       "6                 18-24    -7.673560\n",
       "8                 35-50    -7.474636\n",
       "22               lluvia    -7.412203\n",
       "20       non_refundable    -7.403674\n",
       "33            apartment    -7.344810\n",
       "29             tormenta    -7.318099\n",
       "30               libere    -7.196943\n",
       "26              nublado    -6.924231\n",
       "28              soleado    -6.911933\n",
       "25                nieve    -6.659338\n",
       "23      lluvias_fuertes    -6.651389\n",
       "31               naitly    -6.513210\n",
       "21                other    -6.313606\n",
       "5                 16-18    -6.006224\n",
       "16        Mid-Long Stay    -6.005389\n",
       "19             flexible    -5.782199\n",
       "32           aparthotel    -5.547777\n",
       "14        Leisure Group    -5.095223\n",
       "4                   +80    -4.292813\n",
       "17         Travel Group    -4.257922\n",
       "13  Business Individual    -3.064569\n",
       "18    Travel Individual    -2.599611\n",
       "15   Leisure Individual    -1.507053\n",
       "1            recurrence    -0.784111\n",
       "0         product_count    -0.415888\n",
       "11       All Iron Staff    -0.225751\n",
       "3      duracion_reserva     0.099628\n",
       "12       Business Group     0.103922\n",
       "2               age_nan    10.406141"
      ]
     },
     "execution_count": 15,
     "metadata": {},
     "output_type": "execute_result"
    }
   ],
   "source": [
    "coef"
   ]
  }
 ],
 "metadata": {
  "kernelspec": {
   "display_name": "Python 3.9.15 ('morado_reto06')",
   "language": "python",
   "name": "python3"
  },
  "language_info": {
   "codemirror_mode": {
    "name": "ipython",
    "version": 3
   },
   "file_extension": ".py",
   "mimetype": "text/x-python",
   "name": "python",
   "nbconvert_exporter": "python",
   "pygments_lexer": "ipython3",
   "version": "3.9.15"
  },
  "orig_nbformat": 4,
  "vscode": {
   "interpreter": {
    "hash": "56b90e1349c1e59d0c37fc66b3756487e329f7cba41b3ebe174d213c1bfaff78"
   }
  }
 },
 "nbformat": 4,
 "nbformat_minor": 2
}
